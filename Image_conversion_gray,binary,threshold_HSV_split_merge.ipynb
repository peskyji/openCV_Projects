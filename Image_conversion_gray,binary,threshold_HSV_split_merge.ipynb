{
 "cells": [
  {
   "cell_type": "code",
   "execution_count": 2,
   "metadata": {},
   "outputs": [],
   "source": [
    "import cv2\n",
    "import numpy as np"
   ]
  },
  {
   "cell_type": "code",
   "execution_count": 18,
   "metadata": {},
   "outputs": [],
   "source": [
    "# first reading an image\n",
    "img = cv2.imread(\"photos/nexon.png\")\n",
    "cv2.imshow(\"org\", img)\n",
    "cv2.waitKey(0)\n",
    "cv2.destroyAllWindows()"
   ]
  },
  {
   "cell_type": "markdown",
   "metadata": {},
   "source": [
    "# Converting an image to grayscale image\n",
    "  - using cvtColor(src, color_combination)\n",
    "  - reading image in grayscale - cv2.imread(src, 0)"
   ]
  },
  {
   "cell_type": "code",
   "execution_count": 19,
   "metadata": {},
   "outputs": [],
   "source": [
    "# using cvtColor() method\n",
    "gray_scl = cv2.cvtColor(img, cv2.COLOR_BGRA2GRAY)\n",
    "cv2.imshow(\"gray scale image\", gray_scl)\n",
    "cv2.waitKey(0)\n",
    "cv2.destroyAllWindows()"
   ]
  },
  {
   "cell_type": "code",
   "execution_count": 21,
   "metadata": {},
   "outputs": [],
   "source": [
    "# using imread()\n",
    "img2 = cv2.imread(\"photos/tiger.jpg\", 0)\n",
    "cv2.imshow(\"grayscale image\", img2)\n",
    "cv2.waitKey(0)\n",
    "cv2.destroyAllWindows()"
   ]
  },
  {
   "cell_type": "markdown",
   "metadata": {},
   "source": [
    "# Converting color image to Binary Image (Real Black and White images)\n",
    "  - images are stored in bits where 0 = Black and 1 = White\n",
    "  - First we change the color image to grayscale so that it only have pixels between balck and white colors.\n",
    "  - then we set a threshold value like 127. so below this value consider balck color and above it consider white color."
   ]
  },
  {
   "cell_type": "markdown",
   "metadata": {},
   "source": [
    "### cv2.threshold(source, thresholdValue, maxVal, thresholdingTechnique)\n",
    "  - source: Input Image array (must be in Grayscale).\n",
    "  - thresholdValue: Value of Threshold below and above which pixel values will change accordingly.\n",
    "  - maxVal: Maximum value that can be assigned to a pixel\n",
    "  - thresholdingTechnique: The type of thresholding to be applied.\n",
    "    - cv2.THRESH_BINARY: If pixel intensity is greater than the set threshold, value set to 255, else set to 0 (black).\n",
    "    - cv2.THRESH_BINARY_INV: Inverted or Opposite case of cv2.THRESH_BINARY.\n",
    "    - cv.THRESH_TRUNC: If pixel intensity value is greater than threshold, it is truncated to the threshold. The pixel values are set to be the same as the threshold. All other values remain the same.\n",
    "    - cv.THRESH_TOZERO: Pixel intensity is set to 0, for all the pixels intensity, less than the threshold value.\n",
    "    - cv.THRESH_TOZERO_INV: Inverted or Opposite case of cv2.THRESH_TOZERO."
   ]
  },
  {
   "cell_type": "code",
   "execution_count": 29,
   "metadata": {},
   "outputs": [],
   "source": [
    "# showing original image\n",
    "cv2.imshow(\"original panda\", cv2.imread(\"photos/panda.jpg\"))\n",
    "cv2.waitKey(0)\n",
    "\n",
    "# reading image in grayscale \n",
    "img = cv2.imread(\"photos/panda.jpg\", 0)\n",
    "cv2.imshow(\"grayscale panda\", img)\n",
    "cv2.waitKey(0)\n",
    "cv2.destroyAllWindows()\n",
    "# setting 127 as threshold value and 255 as maximum value for different threshing tecniques\n",
    "ret, black_n_white1 = cv2.threshold(img,127,255,cv2.THRESH_BINARY)\n",
    "ret, black_n_white2 = cv2.threshold(img,127,255,cv2.THRESH_BINARY_INV)\n",
    "ret, black_n_white3 = cv2.threshold(img,127,255,cv2.THRESH_MASK)\n",
    "ret, black_n_white4 = cv2.threshold(img,127,255,cv2.THRESH_OTSU)\n",
    "ret, black_n_white5 = cv2.threshold(img,127,255,cv2.THRESH_TOZERO)\n",
    "ret, black_n_white6 = cv2.threshold(img,127,255,cv2.THRESH_TOZERO_INV)\n",
    "ret, black_n_white7 = cv2.threshold(img,127,255,cv2.THRESH_TRIANGLE)\n",
    "ret, black_n_white8 = cv2.threshold(img,127,255,cv2.THRESH_TRUNC)\n",
    "\n",
    "\n",
    "cv2.imshow(\"THRESH_BINARY\", black_n_white1)\n",
    "cv2.waitKey(0)\n",
    "cv2.imshow(\"THRESH_BINARY_INV\", black_n_white2)\n",
    "cv2.waitKey(0)\n",
    "cv2.imshow(\"THRESH_MASK\", black_n_white3)\n",
    "cv2.waitKey(0)\n",
    "cv2.imshow(\"THRESH_OTSU\", black_n_white4)\n",
    "cv2.waitKey(0)\n",
    "cv2.imshow(\"THRESH_TOZERO\", black_n_white5)\n",
    "cv2.waitKey(0)\n",
    "cv2.imshow(\"THRESH_TOZERO_INV\", black_n_white6)\n",
    "cv2.waitKey(0)\n",
    "cv2.imshow(\"THRESH_TRIANGLE\", black_n_white7)\n",
    "cv2.waitKey(0)\n",
    "cv2.imshow(\"THRESH_TRUNC\", black_n_white8)\n",
    "cv2.waitKey(0)\n",
    "\n",
    "cv2.destroyAllWindows()"
   ]
  },
  {
   "cell_type": "markdown",
   "metadata": {},
   "source": [
    "# Converting RGB image into HSV\n",
    "  - like RGB model we have another model that is HSV (Hue, Saturation, Value)\n",
    "  \n",
    "  - Hue specifies the angle of the color on the RGB color circle. A 0° hue results in red, 120° results in green, and 240° results in blue.\n",
    "  - Saturation controls the amount of color used. A color with 100% saturation will be the purest color possible, while 0% saturation yields grayscale.\n",
    "  - Value controls the brightness of the color. A color with 0% brightness is pure black while a color with 100% brightness has no black mixed into the color."
   ]
  },
  {
   "cell_type": "code",
   "execution_count": 38,
   "metadata": {},
   "outputs": [],
   "source": [
    "# reading an image\n",
    "img = cv2.imread(\"photos/lena.png\")\n",
    "cv2.imshow(\"rgb image\", img)\n",
    "cv2.waitKey(0)\n",
    "\n",
    "# changing this image to HSV\n",
    "hsv_img = cv2.cvtColor(img, cv2.COLOR_BGR2HSV)\n",
    "cv2.imshow(\"HSV image\", hsv_img)\n",
    "cv2.waitKey(0)\n",
    "\n",
    "# checking all channels HUE , SATURATION AND VALUE \n",
    "cv2.imshow('Hue Channel', hsv_img[:,:,0])\n",
    "cv2.imshow('Saturation Channel', hsv_img[:,:,1])\n",
    "cv2.imshow('Value Channel', hsv_img[:,:,2])\n",
    "\n",
    "cv2.waitKey(0)\n",
    "cv2.destroyAllWindows()"
   ]
  },
  {
   "cell_type": "markdown",
   "metadata": {},
   "source": [
    "# Creating Blank images.\n",
    "  - basically we create a numpy array of type uint8."
   ]
  },
  {
   "cell_type": "code",
   "execution_count": 52,
   "metadata": {},
   "outputs": [],
   "source": [
    "# creating a blank black image of size of lena.jpg\n",
    "# black image is created because we create array of 0's and RGB of black is 0,0,0\n",
    "\n",
    "zeros = np.zeros((300,600), dtype=\"uint8\")    # 'unit8' - unsigned int8 is dtype of an image\n",
    "cv2.imshow(\"blank black image\", zeros)\n",
    "cv2.waitKey(0)\n",
    "\n",
    "# creating a blank white image, basically the array now contains 255, which denotes white.\n",
    "white_blank_img = zeros+255\n",
    "cv2.imshow(\"blank white image\", white_blank_img)\n",
    "cv2.waitKey(0)\n",
    "\n",
    "cv2.destroyAllWindows()"
   ]
  },
  {
   "cell_type": "markdown",
   "metadata": {},
   "source": [
    "# EXTRACTING RGB PLANES FROM AN IMAGE. (IN openCV RGB IS TREATED AS BGR)\n",
    "\n",
    "##### First we split the image into three diffrent channels Blue, Green and Red.\n",
    "  - cv2.split(image) method is used. This is time consuming method so better use numpy indexing.\n",
    "  \n",
    "##### Then we merge these channels with dummy image.\n",
    "  - cv2.merge( [R, G , B] ) method is used."
   ]
  },
  {
   "cell_type": "code",
   "execution_count": 53,
   "metadata": {},
   "outputs": [],
   "source": [
    "img = cv2.imread(\"photos/lena.png\")\n",
    "cv2.imshow(\"rgb image\", img)\n",
    "cv2.waitKey(0)\n",
    "\n",
    "# splitting image into B G and R plane\n",
    "B,G,R = cv2.split(img)    # splitting is costly in time.\n",
    "\n",
    "# its better to use numpy indexing as it is time efficient\n",
    "\n",
    "B = img[:,:,0]    # it means we want to include all rows and columns, But only 0th index value from them.\n",
    "G = img[:,:,1]\n",
    "R = img[:,:,2]\n",
    "\n",
    "zeros = np.zeros(img.shape[0:2], dtype=\"uint8\")\n",
    "cv2.imshow(\"blank image\", zeros)\n",
    "cv2.waitKey(0)\n",
    "\n",
    "cv2.imshow(\"BLUE\", cv2.merge([B, zeros, zeros]))   # merging Blue layer of lena.jpg with blank image \n",
    "cv2.waitKey(0)\n",
    "\n",
    "cv2.imshow(\"GREEN\", cv2.merge([zeros, G, zeros]))  # merging green layer of lena.jpg with blank image\n",
    "cv2.waitKey(0)\n",
    "\n",
    "cv2.imshow(\"RED\", cv2.merge([zeros, zeros, R]))    # merging red layer of lena.jpg with blank image\n",
    "cv2.waitKey(0)\n",
    "\n",
    "cv2.imshow(\"BGR\", cv2.merge([B, G, R]))            # merging all BGR layers of lena.jpg resulting in orginal image\n",
    "cv2.waitKey(0)\n",
    "cv2.destroyAllWindows()"
   ]
  }
 ],
 "metadata": {
  "kernelspec": {
   "display_name": "Python 3",
   "language": "python",
   "name": "python3"
  },
  "language_info": {
   "codemirror_mode": {
    "name": "ipython",
    "version": 3
   },
   "file_extension": ".py",
   "mimetype": "text/x-python",
   "name": "python",
   "nbconvert_exporter": "python",
   "pygments_lexer": "ipython3",
   "version": "3.8.1"
  }
 },
 "nbformat": 4,
 "nbformat_minor": 4
}
