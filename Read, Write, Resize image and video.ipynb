{
 "cells": [
  {
   "cell_type": "code",
   "execution_count": 2,
   "metadata": {},
   "outputs": [],
   "source": [
    "import cv2\n",
    "import numpy"
   ]
  },
  {
   "cell_type": "markdown",
   "metadata": {},
   "source": [
    "# Reading an image in openCV - imread(path, flag)\n",
    "   - path = location of file with extension\n",
    "   - flag = it represents color of image\n",
    "        - 1 or cv2.IMREAD_COLOR       -> load color image\n",
    "        - 0 or cv2.IMREAD_GRAYSCALE   -> load image in grayscale mode\n",
    "        - -1 0r cv2.IMREAD_UNCHANGED  -> load an image as such including alpha channel"
   ]
  },
  {
   "cell_type": "code",
   "execution_count": 8,
   "metadata": {},
   "outputs": [],
   "source": [
    "img = cv2.imread(\"photos/nexon.png\")\n",
    "cv2.imshow(\"ss\",img)\n",
    "cv2.waitKey(0)\n",
    "cv2.destroyAllWindows()"
   ]
  },
  {
   "cell_type": "markdown",
   "metadata": {},
   "source": [
    "- waitKey(n) function will wait for n milli seconds before closing the window.\n",
    "    - waitKey(0) --   wait for infinite time untill we click the close button\n",
    "    - waitKey(1000)-- wait for 1000ms before closing the screen or moving to next frame.\n",
    "- destroyAllWindows() - this function will close all opened gui windows."
   ]
  },
  {
   "cell_type": "markdown",
   "metadata": {},
   "source": [
    "# Reading a Video File from certain path or from webcam\n",
    "- cv2.VideoCapture(0)  - capture video from first camera or webcam.\n",
    "- cv2.VideoCapture(1)  - capture video from second camera or webcam.\n",
    "- cv2.VideoCapture(\"path\") - read from a video file"
   ]
  },
  {
   "cell_type": "code",
   "execution_count": 3,
   "metadata": {},
   "outputs": [
    {
     "name": "stdout",
     "output_type": "stream",
     "text": [
      "Error opening video  file\n"
     ]
    }
   ],
   "source": [
    "#vdo = cv2.VideoCapture(\"F:/Untitled_720p.mp4\")\n",
    "cap = cv2.VideoCapture(\"0\") \n",
    "   \n",
    "# Check if camera opened successfully \n",
    "if (cap.isOpened()== False):  \n",
    "  print(\"Error opening video  file\") \n",
    "   \n",
    "# Read until video is completed \n",
    "while(cap.isOpened()): \n",
    "      \n",
    "  # Capture frame-by-frame \n",
    "  ret, frame = cap.read() \n",
    "  if ret == True: \n",
    "   \n",
    "    # Display the resulting frame \n",
    "    cv2.imshow('Frame', frame) \n",
    "   \n",
    "    # Press Q on keyboard to  exit \n",
    "    if cv2.waitKey(20) & 0xFF == ord('q'):   # how this statement is executed look cell below\n",
    "      break\n",
    "   \n",
    "  # Break the loop \n",
    "  else:  \n",
    "    break\n",
    "   \n",
    "# When everything done, release  \n",
    "# the video capture object \n",
    "cap.release() \n",
    "   \n",
    "# Closes all the frames \n",
    "cv2.destroyAllWindows() "
   ]
  },
  {
   "cell_type": "markdown",
   "metadata": {},
   "source": [
    "### cv2.waitKey(20) & 0xFF == ord('q') is executed in following manner\n",
    "- cv2.waitKey(20) returns character code of the key pressed and returns -1 if no key pressed.\n",
    "- 0xFF is hexadecimal number for binary number 1111 1111.\n",
    "- ord('q') will return ASCII code for the key pressed.\n",
    "\n",
    "* To ab cv2.waitKey(20) us key ka character code return karega jo humne dabayi hogi(lets say humne 'q' dabaya).\n",
    "* cv2.waitKey(20) ne return kiya 'q' ka code i.e 113 or 0x71 or 0b01110001\n",
    "\n",
    "* now cv2.waitKey(20) & 0xFF me binary & operation hoga. kisi bhi number ka agar hum FF(1111 1111) se binary & karenge to same wahi number ayega. Likewise agar hum kisi v number ka 0x00(0000 0000) se binary or karenge to v same wohi number milega.\n",
    "\n",
    "* The reason behind doing binary & or binary | is that in some OS cv2.waitKey() returns more than single byte, so to make it single byte we do binary & operation."
   ]
  },
  {
   "cell_type": "raw",
   "metadata": {},
   "source": [
    "cv2.waitKey(20) & 0xFF == ord('q')    # suppose humne 'q' dabaya q = 113, 0x71, 01110001\n",
    "0x71 & 0xFF == ord('q')\n",
    "(0111 0001 & 1111 1111) == ord('q)    # returns the same number in single byte\n",
    "0111 0001 == ord('q')\n",
    "0x71 == 0x71                          # condition true then break out of the loop\n"
   ]
  },
  {
   "cell_type": "markdown",
   "metadata": {},
   "source": [
    "# Resizing/Rescaling a video/image\n",
    "- rescaling means changing the aspect ratio (height and width)\n",
    "- resize(image_0r_a_frame, a_tuple_of_width_height, interpolation)\n",
    "    - INTER_NEAREST – a nearest-neighbor interpolation\n",
    "    - INTER_LINEAR – a bilinear interpolation (used by default)\n",
    "    - INTER_AREA – resampling using pixel area relation. It may be a preferred method for image decimation, as it gives moire’-free results. But when the image is zoomed, it is similar to theINTER_NEAREST method.\n",
    "    - INTER_CUBIC – a bicubic interpolation over 4×4 pixel neighborhood\n",
    "    - INTER_LANCZOS4 – a Lanczos interpolation over 8×8 pixel neighborhood\n",
    "    \n",
    "* Eg. resize(frame, (width,height), interpolation)"
   ]
  },
  {
   "cell_type": "code",
   "execution_count": 2,
   "metadata": {},
   "outputs": [],
   "source": [
    "# reading a video file\n",
    "vdo = cv2.VideoCapture(\"videos/v1.mp4\")    # reading video file\n",
    "\n",
    "def rescale_frame(frame, scale=0.75):\n",
    "    width = int(frame.shape[1] * scale)    # width hamesha int mai hi hogi\n",
    "    height = int(frame.shape[0] * scale)   # height v hamesha int value hi hogi\n",
    "    \n",
    "    return cv2.resize(frame, (width,height), interpolation=cv2.INTER_AREA)    # It returns a image frame.\n",
    "\n",
    "while(vdo.isOpened()):\n",
    "    ret, frame = vdo.read()\n",
    "    if ret == True:\n",
    "        cv2.imshow('org_video', frame)  # showing orinal video\n",
    "        #resized_frame = rescale_frame(frame)        # default scaling to 75%\n",
    "        resized_frame = rescale_frame(frame, 0.3)    # scaling to 30%\n",
    "        cv2.imshow('resized_video', resized_frame)\n",
    "        char_code = cv2.waitKey(1) | 0x00\n",
    "        if char_code == ord('q') or char_code == ord('Q') or char_code == 0x1B:  # 27 in decimal and 0x1B in hex -> for ese key.\n",
    "            break\n",
    "    else:\n",
    "        break\n",
    "vdo.release()\n",
    "cv2.destroyAllWindows()"
   ]
  },
  {
   "cell_type": "markdown",
   "metadata": {},
   "source": [
    "# writing an image to a specific path"
   ]
  },
  {
   "cell_type": "code",
   "execution_count": 12,
   "metadata": {},
   "outputs": [
    {
     "name": "stdout",
     "output_type": "stream",
     "text": [
      "image saved\n"
     ]
    }
   ],
   "source": [
    "img = cv2.imread(\"photos/nexon.png\")\n",
    "\n",
    "# rescaling the image\n",
    "height = img.shape[0] // 2    # changing height to half of original\n",
    "width = 800      # changing height to 800px\n",
    "dimension = (width,height)\n",
    "\n",
    "new_img = cv2.resize(img, dimension)\n",
    "cv2.imshow(\"resized_image\", new_img)\n",
    "cv2.waitKey(0)\n",
    "cv2.destroyAllWindows()\n",
    "if cv2.imwrite(\"photos/resized_image_nexon.png\", new_img):    # filename extension is important.\n",
    "    print(\"image saved\")\n",
    "else:\n",
    "    print(\"Sorry!!! image could not be saved\")\n",
    "    "
   ]
  },
  {
   "cell_type": "markdown",
   "metadata": {},
   "source": [
    "# writing video to a specific path\n",
    "\n",
    "### cv2.VideoWriter(filename, fourcc, fps, frameSize)\n",
    "    - filename: Input video file (*.avi)\n",
    "    - fourcc: 4-character code of codec used to compress the frames\n",
    "        - cv2.VideoWriter_fourcc(*’MJPG’)\n",
    "        - cv2.VideoWriter_fourcc(*’DIVX’)    for windows\n",
    "        - cv2.VideoWriter_fourcc(*’AVC1 or H263’)   for mac\n",
    "    - fps: framerate of videostream\n",
    "    - framesize: Height and width of frame"
   ]
  },
  {
   "cell_type": "code",
   "execution_count": 46,
   "metadata": {},
   "outputs": [
    {
     "name": "stdout",
     "output_type": "stream",
     "text": [
      "fps = 30.0, width = 640, height = 480\n"
     ]
    }
   ],
   "source": [
    "live_video = cv2.VideoCapture(0)    # reading live video from webcam.\n",
    "\n",
    "#showing the webcame screen in fullscreen view\n",
    "# cv2.namedWindow(\"live_video\", cv2.WND_PROP_FULLSCREEN)\n",
    "# cv2.setWindowProperty(\"live_video\", cv2.WND_PROP_FULLSCREEN, cv2.WINDOW_FULLSCREEN)\n",
    "\n",
    "# parameters for writing videos\n",
    "fourcc = cv2.VideoWriter_fourcc(*'DIVX')\n",
    "fps = live_video.get(5)\n",
    "width_of_live_video = int(live_video.get(3))     # each number in get or set method represents to a specific function.\n",
    "height_of_live_video = int(live_video.get(4))    # see below to get full list.\n",
    "\n",
    "print(f\"fps = {fps}, width = {width_of_live_video}, height = {height_of_live_video}\")\n",
    "\n",
    "\n",
    "# setting new size as half of the original video\n",
    "size = (width_of_live_video , height_of_live_video)\n",
    "\n",
    "# initializing video_writer object to write video\n",
    "write_video = cv2.VideoWriter(\"videos/live_video.avi\", fourcc, fps, size)\n",
    "\n",
    "# reading original video\n",
    "while(live_video.isOpened()):\n",
    "    ret, frame = live_video.read()\n",
    "    if ret:\n",
    "        cv2.imshow(\"live_video\", frame)\n",
    "        \n",
    "        # writing every frame into the file specified above\n",
    "        write_video.write(resized_frame)\n",
    "    if (cv2.waitKey(1) & 255) in [ord('q'), ord('Q'), 27]:\n",
    "        break\n",
    "        \n",
    "live_video.release()\n",
    "write_video.release()\n",
    "cv2.destroyAllWindows()"
   ]
  },
  {
   "cell_type": "raw",
   "metadata": {},
   "source": []
  },
  {
   "cell_type": "markdown",
   "metadata": {},
   "source": [
    "### VideoCapture.get(index)\n",
    "- 0 = CV_CAP_PROP_POS_MSEC Current position of the video file in milliseconds or video capture timestamp.\n",
    "- 1 = CV_CAP_PROP_POS_FRAMES 0-based index of the frame to be decoded/captured next.\n",
    "- 2 = CV_CAP_PROP_POS_AVI_RATIO Relative position of the video file: 0 - start of the film, 1 - end of the film.\n",
    "- 3 = CV_CAP_PROP_FRAME_WIDTH Width of the frames in the video stream.\n",
    "- CV_CAP_PROP_FRAME_HEIGHT Height of the frames in the video stream.\n",
    "- CV_CAP_PROP_FPS Frame rate.\n",
    "- CV_CAP_PROP_FOURCC 4-character code of codec.\n",
    "- CV_CAP_PROP_FRAME_COUNT Number of frames in the video file.\n",
    "- CV_CAP_PROP_FORMAT Format of the Mat objects returned by retrieve() .\n",
    "- CV_CAP_PROP_MODE Backend-specific value indicating the current capture mode.\n",
    "- CV_CAP_PROP_BRIGHTNESS Brightness of the image (only for cameras).\n",
    "- CV_CAP_PROP_CONTRAST Contrast of the image (only for cameras).\n",
    "- CV_CAP_PROP_SATURATION Saturation of the image (only for cameras).\n",
    "- CV_CAP_PROP_HUE Hue of the image (only for cameras).\n",
    "- CV_CAP_PROP_GAIN Gain of the image (only for cameras).\n",
    "- CV_CAP_PROP_EXPOSURE Exposure (only for cameras).\n",
    "- CV_CAP_PROP_CONVERT_RGB Boolean flags indicating whether images should be converted to RGB.\n",
    "- CV_CAP_PROP_WHITE_BALANCE_U The U value of the whitebalance setting (note: only supported by DC1394 v 2.x backend - currently)\n",
    "- CV_CAP_PROP_WHITE_BALANCE_V The V value of the whitebalance setting (note: only supported by DC1394 v 2.x backend currently)\n",
    "- CV_CAP_PROP_RECTIFICATION Rectification flag for stereo cameras (note: only supported by DC1394 v 2.x backend currently)\n",
    "- CV_CAP_PROP_ISO_SPEED The ISO speed of the camera (note: only supported by DC1394 v 2.x backend currently)\n",
    "- CV_CAP_PROP_BUFFERSIZE Amount of frames stored in internal buffer memory (note: only supported by DC1394 v 2.x backend currently)\n"
   ]
  }
 ],
 "metadata": {
  "kernelspec": {
   "display_name": "Python 3",
   "language": "python",
   "name": "python3"
  },
  "language_info": {
   "codemirror_mode": {
    "name": "ipython",
    "version": 3
   },
   "file_extension": ".py",
   "mimetype": "text/x-python",
   "name": "python",
   "nbconvert_exporter": "python",
   "pygments_lexer": "ipython3",
   "version": "3.8.1"
  }
 },
 "nbformat": 4,
 "nbformat_minor": 4
}
